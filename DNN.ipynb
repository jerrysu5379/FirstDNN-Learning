{
 "cells": [
  {
   "cell_type": "code",
   "execution_count": 1,
   "id": "initial_id",
   "metadata": {
    "collapsed": true,
    "ExecuteTime": {
     "end_time": "2023-10-08T04:35:51.405825Z",
     "start_time": "2023-10-08T04:35:50.141214Z"
    }
   },
   "outputs": [],
   "source": [
    "import torch\n",
    "import torch.nn as nn\n",
    "import matplotlib.pyplot as plt\n",
    "%matplotlib inline"
   ]
  },
  {
   "cell_type": "code",
   "execution_count": 2,
   "outputs": [],
   "source": [
    "from matplotlib_inline import backend_inline\n",
    "backend_inline.set_matplotlib_formats('svg')"
   ],
   "metadata": {
    "collapsed": false,
    "ExecuteTime": {
     "end_time": "2023-10-08T04:35:51.411200Z",
     "start_time": "2023-10-08T04:35:51.406787Z"
    }
   },
   "id": "8bd34be912f38fd3"
  },
  {
   "cell_type": "code",
   "execution_count": 3,
   "outputs": [],
   "source": [
    "device='mps'"
   ],
   "metadata": {
    "collapsed": false,
    "ExecuteTime": {
     "end_time": "2023-10-08T04:35:51.415142Z",
     "start_time": "2023-10-08T04:35:51.409461Z"
    }
   },
   "id": "3e88312e23792942"
  },
  {
   "cell_type": "code",
   "execution_count": 4,
   "outputs": [
    {
     "data": {
      "text/plain": "(torch.Size([10000, 1]), torch.Size([10000, 1]), torch.Size([10000, 1]))"
     },
     "execution_count": 4,
     "metadata": {},
     "output_type": "execute_result"
    }
   ],
   "source": [
    "X1=torch.rand(10000,1)\n",
    "X2=torch.rand(10000,1)\n",
    "X3=torch.rand(10000,1)\n",
    "X1.shape, X2.shape, X3.shape"
   ],
   "metadata": {
    "collapsed": false,
    "ExecuteTime": {
     "end_time": "2023-10-08T04:35:51.423159Z",
     "start_time": "2023-10-08T04:35:51.413348Z"
    }
   },
   "id": "f9bb85149451a2ba"
  },
  {
   "cell_type": "code",
   "execution_count": 5,
   "outputs": [
    {
     "data": {
      "text/plain": "(torch.Size([10000, 1]), torch.Size([10000, 1]), torch.Size([10000, 1]))"
     },
     "execution_count": 5,
     "metadata": {},
     "output_type": "execute_result"
    }
   ],
   "source": [
    "Y1=((X1+X2+X3)<1).float()\n",
    "Y2=((1<(X1+X2+X3))&(X1+X2+X3<2)).float()\n",
    "Y3=((X1+X2+X3)>2).float()\n",
    "Y1.shape, Y2.shape, Y3.shape"
   ],
   "metadata": {
    "collapsed": false,
    "ExecuteTime": {
     "end_time": "2023-10-08T04:35:51.456120Z",
     "start_time": "2023-10-08T04:35:51.423809Z"
    }
   },
   "id": "b1944977863ac9ca"
  },
  {
   "cell_type": "code",
   "execution_count": 6,
   "outputs": [
    {
     "data": {
      "text/plain": "torch.Size([10000, 6])"
     },
     "execution_count": 6,
     "metadata": {},
     "output_type": "execute_result"
    }
   ],
   "source": [
    "Data=torch.cat([X1,X2,X3,Y1,Y2,Y3],axis=1)\n",
    "Data=Data.to(device)\n",
    "Data.shape"
   ],
   "metadata": {
    "collapsed": false,
    "ExecuteTime": {
     "end_time": "2023-10-08T04:35:51.457259Z",
     "start_time": "2023-10-08T04:35:51.433714Z"
    }
   },
   "id": "1bf332b7fb25f2c8"
  },
  {
   "cell_type": "code",
   "execution_count": 7,
   "outputs": [
    {
     "data": {
      "text/plain": "tensor([[0.0969, 0.4501, 0.8255, 0.0000, 1.0000, 0.0000],\n        [0.6179, 0.1887, 0.9467, 0.0000, 1.0000, 0.0000],\n        [0.1225, 0.3412, 0.4293, 1.0000, 0.0000, 0.0000],\n        ...,\n        [0.0864, 0.8588, 0.5325, 0.0000, 1.0000, 0.0000],\n        [0.0610, 0.8492, 0.6290, 0.0000, 1.0000, 0.0000],\n        [0.1512, 0.4931, 0.9120, 0.0000, 1.0000, 0.0000]], device='mps:0')"
     },
     "execution_count": 7,
     "metadata": {},
     "output_type": "execute_result"
    }
   ],
   "source": [
    "Data"
   ],
   "metadata": {
    "collapsed": false,
    "ExecuteTime": {
     "end_time": "2023-10-08T04:35:52.051840Z",
     "start_time": "2023-10-08T04:35:51.459914Z"
    }
   },
   "id": "98ece603f4f944fc"
  },
  {
   "cell_type": "code",
   "execution_count": 8,
   "outputs": [
    {
     "data": {
      "text/plain": "(torch.Size([7000, 6]), torch.Size([3000, 6]))"
     },
     "execution_count": 8,
     "metadata": {},
     "output_type": "execute_result"
    }
   ],
   "source": [
    "train_size=int(len(Data)*0.7)\n",
    "test_size=len(Data)-train_size\n",
    "Data=Data[torch.randperm(Data.size(0)) , : ]\n",
    "train_Data=Data[:train_size, :]\n",
    "test_Data=Data[train_size:, :]\n",
    "train_Data.shape, test_Data.shape"
   ],
   "metadata": {
    "collapsed": false,
    "ExecuteTime": {
     "end_time": "2023-10-08T04:35:52.055204Z",
     "start_time": "2023-10-08T04:35:52.051350Z"
    }
   },
   "id": "3a21024d5e758c62"
  },
  {
   "cell_type": "code",
   "execution_count": 9,
   "outputs": [],
   "source": [
    "class DNN(nn.Module):\n",
    "    def __init__(self):\n",
    "        super(DNN,self).__init__()\n",
    "        self.net=nn.Sequential(\n",
    "            nn.Linear(3,5), nn.ReLU(),\n",
    "            nn.Linear(5,5), nn.ReLU(),\n",
    "            nn.Linear(5,5), nn.ReLU(),\n",
    "            nn.Linear(5,3)\n",
    "        )\n",
    "    def forward(self,x):\n",
    "        y=self.net(x)\n",
    "        return y"
   ],
   "metadata": {
    "collapsed": false,
    "ExecuteTime": {
     "end_time": "2023-10-08T04:35:52.058398Z",
     "start_time": "2023-10-08T04:35:52.056634Z"
    }
   },
   "id": "88cc7bef068e7555"
  },
  {
   "cell_type": "code",
   "execution_count": 11,
   "outputs": [
    {
     "data": {
      "text/plain": "DNN(\n  (net): Sequential(\n    (0): Linear(in_features=3, out_features=5, bias=True)\n    (1): ReLU()\n    (2): Linear(in_features=5, out_features=5, bias=True)\n    (3): ReLU()\n    (4): Linear(in_features=5, out_features=5, bias=True)\n    (5): ReLU()\n    (6): Linear(in_features=5, out_features=3, bias=True)\n  )\n)"
     },
     "execution_count": 11,
     "metadata": {},
     "output_type": "execute_result"
    }
   ],
   "source": [
    "model=DNN().to(device)\n",
    "model"
   ],
   "metadata": {
    "collapsed": false,
    "ExecuteTime": {
     "end_time": "2023-10-08T04:35:57.028740Z",
     "start_time": "2023-10-08T04:35:57.021131Z"
    }
   },
   "id": "66ed79ad7e70eff0"
  },
  {
   "cell_type": "code",
   "execution_count": 13,
   "outputs": [
    {
     "name": "stdout",
     "output_type": "stream",
     "text": [
      "net.0.weight torch.Size([5, 3]) Parameter containing:\n",
      "tensor([[ 0.3338, -0.5089, -0.5751],\n",
      "        [ 0.5458,  0.3465, -0.4122],\n",
      "        [-0.1984,  0.3979,  0.1012],\n",
      "        [-0.5468, -0.0063, -0.4383],\n",
      "        [ 0.3804,  0.0072,  0.1604]], device='mps:0', requires_grad=True)\n",
      "net.0.bias torch.Size([5]) Parameter containing:\n",
      "tensor([-0.0557, -0.4292, -0.0511,  0.4695,  0.4626], device='mps:0',\n",
      "       requires_grad=True)\n",
      "net.2.weight torch.Size([5, 5]) Parameter containing:\n",
      "tensor([[ 0.2518,  0.1623,  0.0570,  0.2966,  0.3127],\n",
      "        [-0.2685,  0.2155, -0.3212, -0.2557,  0.1334],\n",
      "        [-0.1620, -0.1843, -0.3236,  0.3134, -0.0767],\n",
      "        [-0.1405, -0.2952, -0.4137, -0.0378,  0.4022],\n",
      "        [ 0.1515,  0.2509,  0.1378,  0.1254,  0.4134]], device='mps:0',\n",
      "       requires_grad=True)\n",
      "net.2.bias torch.Size([5]) Parameter containing:\n",
      "tensor([-3.8987e-01, -4.0033e-01, -1.1361e-04,  4.0793e-01,  2.5819e-01],\n",
      "       device='mps:0', requires_grad=True)\n",
      "net.4.weight torch.Size([5, 5]) Parameter containing:\n",
      "tensor([[ 0.0379,  0.1065,  0.0035,  0.1100, -0.4244],\n",
      "        [-0.0992,  0.0803,  0.1835,  0.2806,  0.0261],\n",
      "        [ 0.4199, -0.3096, -0.1357,  0.4194, -0.0099],\n",
      "        [-0.3072, -0.0063, -0.3662, -0.0575, -0.4432],\n",
      "        [ 0.0506, -0.1041, -0.2437,  0.3424, -0.3954]], device='mps:0',\n",
      "       requires_grad=True)\n",
      "net.4.bias torch.Size([5]) Parameter containing:\n",
      "tensor([ 0.1970, -0.1976,  0.0228, -0.2121,  0.0447], device='mps:0',\n",
      "       requires_grad=True)\n",
      "net.6.weight torch.Size([3, 5]) Parameter containing:\n",
      "tensor([[ 0.3538, -0.0694, -0.3065,  0.2637, -0.4097],\n",
      "        [-0.2933,  0.0063, -0.3413,  0.4437,  0.3387],\n",
      "        [-0.3140,  0.0674,  0.0838,  0.1420,  0.3704]], device='mps:0',\n",
      "       requires_grad=True)\n",
      "net.6.bias torch.Size([3]) Parameter containing:\n",
      "tensor([-0.1070, -0.2978,  0.0485], device='mps:0', requires_grad=True)\n"
     ]
    }
   ],
   "source": [
    "for name,param in model.named_parameters():\n",
    "    print(name, param.shape, param)"
   ],
   "metadata": {
    "collapsed": false,
    "ExecuteTime": {
     "end_time": "2023-10-08T04:37:44.566686Z",
     "start_time": "2023-10-08T04:37:43.716864Z"
    }
   },
   "id": "3eadfef9201b56bd"
  },
  {
   "cell_type": "code",
   "execution_count": null,
   "outputs": [],
   "source": [],
   "metadata": {
    "collapsed": false
   },
   "id": "78e97093953ba66f"
  }
 ],
 "metadata": {
  "kernelspec": {
   "display_name": "Python 3",
   "language": "python",
   "name": "python3"
  },
  "language_info": {
   "codemirror_mode": {
    "name": "ipython",
    "version": 2
   },
   "file_extension": ".py",
   "mimetype": "text/x-python",
   "name": "python",
   "nbconvert_exporter": "python",
   "pygments_lexer": "ipython2",
   "version": "2.7.6"
  }
 },
 "nbformat": 4,
 "nbformat_minor": 5
}
