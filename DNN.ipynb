{
 "cells": [
  {
   "cell_type": "code",
   "execution_count": 1,
   "id": "initial_id",
   "metadata": {
    "collapsed": true,
    "ExecuteTime": {
     "end_time": "2023-10-08T04:22:48.618456Z",
     "start_time": "2023-10-08T04:22:47.515975Z"
    }
   },
   "outputs": [],
   "source": [
    "import torch\n",
    "import torch.nn as nn\n",
    "import matplotlib.pyplot as plt\n",
    "%matplotlib inline"
   ]
  },
  {
   "cell_type": "code",
   "execution_count": 2,
   "outputs": [],
   "source": [
    "from matplotlib_inline import backend_inline\n",
    "backend_inline.set_matplotlib_formats('svg')"
   ],
   "metadata": {
    "collapsed": false,
    "ExecuteTime": {
     "end_time": "2023-10-08T04:22:49.086910Z",
     "start_time": "2023-10-08T04:22:49.084066Z"
    }
   },
   "id": "8bd34be912f38fd3"
  },
  {
   "cell_type": "code",
   "execution_count": 3,
   "outputs": [],
   "source": [
    "device='mps'"
   ],
   "metadata": {
    "collapsed": false,
    "ExecuteTime": {
     "end_time": "2023-10-08T04:22:49.918276Z",
     "start_time": "2023-10-08T04:22:49.910404Z"
    }
   },
   "id": "3e88312e23792942"
  },
  {
   "cell_type": "code",
   "execution_count": 4,
   "outputs": [
    {
     "data": {
      "text/plain": "(torch.Size([10000, 1]), torch.Size([10000, 1]), torch.Size([10000, 1]))"
     },
     "execution_count": 4,
     "metadata": {},
     "output_type": "execute_result"
    }
   ],
   "source": [
    "X1=torch.rand(10000,1)\n",
    "X2=torch.rand(10000,1)\n",
    "X3=torch.rand(10000,1)\n",
    "X1.shape, X2.shape, X3.shape"
   ],
   "metadata": {
    "collapsed": false,
    "ExecuteTime": {
     "end_time": "2023-10-08T04:22:51.537494Z",
     "start_time": "2023-10-08T04:22:51.530869Z"
    }
   },
   "id": "f9bb85149451a2ba"
  },
  {
   "cell_type": "code",
   "execution_count": 5,
   "outputs": [
    {
     "data": {
      "text/plain": "(torch.Size([10000, 1]), torch.Size([10000, 1]), torch.Size([10000, 1]))"
     },
     "execution_count": 5,
     "metadata": {},
     "output_type": "execute_result"
    }
   ],
   "source": [
    "Y1=((X1+X2+X3)<1).float()\n",
    "Y2=((1<(X1+X2+X3))&(X1+X2+X3<2)).float()\n",
    "Y3=((X1+X2+X3)>2).float()\n",
    "Y1.shape, Y2.shape, Y3.shape"
   ],
   "metadata": {
    "collapsed": false,
    "ExecuteTime": {
     "end_time": "2023-10-08T04:22:54.500699Z",
     "start_time": "2023-10-08T04:22:54.495712Z"
    }
   },
   "id": "b1944977863ac9ca"
  },
  {
   "cell_type": "code",
   "execution_count": 6,
   "outputs": [
    {
     "data": {
      "text/plain": "torch.Size([10000, 6])"
     },
     "execution_count": 6,
     "metadata": {},
     "output_type": "execute_result"
    }
   ],
   "source": [
    "Data=torch.cat([X1,X2,X3,Y1,Y2,Y3],dim=1)\n",
    "Data=Data.to(device)\n",
    "Data.shape"
   ],
   "metadata": {
    "collapsed": false,
    "ExecuteTime": {
     "end_time": "2023-10-08T04:24:15.151509Z",
     "start_time": "2023-10-08T04:24:15.120271Z"
    }
   },
   "id": "1bf332b7fb25f2c8"
  },
  {
   "cell_type": "code",
   "execution_count": 7,
   "outputs": [
    {
     "data": {
      "text/plain": "tensor([[0.4101, 0.0504, 0.0263, 1.0000, 0.0000, 0.0000],\n        [0.7876, 0.5624, 0.6420, 0.0000, 1.0000, 0.0000],\n        [0.0931, 0.0392, 0.3370, 1.0000, 0.0000, 0.0000],\n        ...,\n        [0.5517, 0.1842, 0.2109, 1.0000, 0.0000, 0.0000],\n        [0.6635, 0.9509, 0.0897, 0.0000, 1.0000, 0.0000],\n        [0.6127, 0.7719, 0.4613, 0.0000, 1.0000, 0.0000]], device='mps:0')"
     },
     "execution_count": 7,
     "metadata": {},
     "output_type": "execute_result"
    }
   ],
   "source": [
    "Data"
   ],
   "metadata": {
    "collapsed": false,
    "ExecuteTime": {
     "end_time": "2023-10-08T04:24:15.713196Z",
     "start_time": "2023-10-08T04:24:15.701204Z"
    }
   },
   "id": "98ece603f4f944fc"
  },
  {
   "cell_type": "code",
   "execution_count": 8,
   "outputs": [
    {
     "data": {
      "text/plain": "(torch.Size([7000, 6]), torch.Size([3000, 6]))"
     },
     "execution_count": 8,
     "metadata": {},
     "output_type": "execute_result"
    }
   ],
   "source": [
    "train_size=int(len(Data)*0.7)\n",
    "test_size=len(Data)-train_size\n",
    "Data=Data[torch.randperm(Data.size(0)),:]\n",
    "train_Data=Data[:train_size,:]\n",
    "test_Data=Data[train_size:,:]\n",
    "train_Data.shape, test_Data.shape"
   ],
   "metadata": {
    "collapsed": false,
    "ExecuteTime": {
     "end_time": "2023-10-08T04:24:16.849533Z",
     "start_time": "2023-10-08T04:24:16.845287Z"
    }
   },
   "id": "3a21024d5e758c62"
  },
  {
   "cell_type": "code",
   "execution_count": 9,
   "outputs": [],
   "source": [
    "class DNN(nn.Module):\n",
    "    def __init__(self):\n",
    "        super(DNN,self).__init__()\n",
    "        set.net=nn.Sequential(\n",
    "            nn.Linear(3,5), nn.ReLU(),\n",
    "            nn.Linear(5,5), nn.ReLU(),\n",
    "            nn.Linear(5,5), nn.ReLU(),\n",
    "            nn.Linear(5,3)\n",
    "        )\n",
    "    def forward(self,x):\n",
    "        y=self.net(x)\n",
    "        return y"
   ],
   "metadata": {
    "collapsed": false,
    "ExecuteTime": {
     "end_time": "2023-10-08T04:24:17.665260Z",
     "start_time": "2023-10-08T04:24:17.660888Z"
    }
   },
   "id": "88cc7bef068e7555"
  },
  {
   "cell_type": "code",
   "execution_count": 10,
   "outputs": [
    {
     "ename": "TypeError",
     "evalue": "cannot set 'net' attribute of immutable type 'set'",
     "output_type": "error",
     "traceback": [
      "\u001B[0;31m---------------------------------------------------------------------------\u001B[0m",
      "\u001B[0;31mTypeError\u001B[0m                                 Traceback (most recent call last)",
      "Cell \u001B[0;32mIn[10], line 1\u001B[0m\n\u001B[0;32m----> 1\u001B[0m model\u001B[38;5;241m=\u001B[39mDNN()\u001B[38;5;241m.\u001B[39mto(device)\n\u001B[1;32m      2\u001B[0m model\n",
      "Cell \u001B[0;32mIn[9], line 4\u001B[0m, in \u001B[0;36mDNN.__init__\u001B[0;34m(self)\u001B[0m\n\u001B[1;32m      2\u001B[0m \u001B[38;5;28;01mdef\u001B[39;00m \u001B[38;5;21m__init__\u001B[39m(\u001B[38;5;28mself\u001B[39m):\n\u001B[1;32m      3\u001B[0m     \u001B[38;5;28msuper\u001B[39m(DNN,\u001B[38;5;28mself\u001B[39m)\u001B[38;5;241m.\u001B[39m\u001B[38;5;21m__init__\u001B[39m()\n\u001B[0;32m----> 4\u001B[0m     \u001B[38;5;28mset\u001B[39m\u001B[38;5;241m.\u001B[39mnet\u001B[38;5;241m=\u001B[39mnn\u001B[38;5;241m.\u001B[39mSequential(\n\u001B[1;32m      5\u001B[0m         nn\u001B[38;5;241m.\u001B[39mLinear(\u001B[38;5;241m3\u001B[39m,\u001B[38;5;241m5\u001B[39m), nn\u001B[38;5;241m.\u001B[39mReLU(),\n\u001B[1;32m      6\u001B[0m         nn\u001B[38;5;241m.\u001B[39mLinear(\u001B[38;5;241m5\u001B[39m,\u001B[38;5;241m5\u001B[39m), nn\u001B[38;5;241m.\u001B[39mReLU(),\n\u001B[1;32m      7\u001B[0m         nn\u001B[38;5;241m.\u001B[39mLinear(\u001B[38;5;241m5\u001B[39m,\u001B[38;5;241m5\u001B[39m), nn\u001B[38;5;241m.\u001B[39mReLU(),\n\u001B[1;32m      8\u001B[0m         nn\u001B[38;5;241m.\u001B[39mLinear(\u001B[38;5;241m5\u001B[39m,\u001B[38;5;241m3\u001B[39m)\n\u001B[1;32m      9\u001B[0m     )\n",
      "\u001B[0;31mTypeError\u001B[0m: cannot set 'net' attribute of immutable type 'set'"
     ]
    }
   ],
   "source": [
    "model=DNN().to(device)\n",
    "model"
   ],
   "metadata": {
    "collapsed": false,
    "ExecuteTime": {
     "end_time": "2023-10-08T04:24:19.029492Z",
     "start_time": "2023-10-08T04:24:18.795574Z"
    }
   },
   "id": "66ed79ad7e70eff0"
  },
  {
   "cell_type": "code",
   "execution_count": null,
   "outputs": [],
   "source": [],
   "metadata": {
    "collapsed": false
   },
   "id": "3eadfef9201b56bd"
  }
 ],
 "metadata": {
  "kernelspec": {
   "display_name": "Python 3",
   "language": "python",
   "name": "python3"
  },
  "language_info": {
   "codemirror_mode": {
    "name": "ipython",
    "version": 2
   },
   "file_extension": ".py",
   "mimetype": "text/x-python",
   "name": "python",
   "nbconvert_exporter": "python",
   "pygments_lexer": "ipython2",
   "version": "2.7.6"
  }
 },
 "nbformat": 4,
 "nbformat_minor": 5
}
