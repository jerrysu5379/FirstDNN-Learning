{
 "cells": [
  {
   "cell_type": "code",
   "execution_count": null,
   "id": "initial_id",
   "metadata": {
    "collapsed": true
   },
   "outputs": [],
   "source": [
    "import torch\n",
    "import torch.nn as nn\n",
    "import matplotlib.pyplot as plt\n",
    "%matplotlib inline"
   ]
  },
  {
   "cell_type": "code",
   "execution_count": null,
   "outputs": [],
   "source": [
    "from matplotlib_inline import backend_inline\n",
    "backend_inline.set_matplotlib_formats('svg')"
   ],
   "metadata": {
    "collapsed": false
   },
   "id": "8bd34be912f38fd3"
  },
  {
   "cell_type": "code",
   "execution_count": null,
   "outputs": [],
   "source": [
    "device='mps'"
   ],
   "metadata": {
    "collapsed": false
   },
   "id": "3e88312e23792942"
  },
  {
   "cell_type": "code",
   "execution_count": null,
   "outputs": [],
   "source": [
    "X1=torch.rand(10000,1)\n",
    "X2=torch.rand(10000,1)\n",
    "X3=torch.rand(10000,1)\n",
    "X1.shape, X2.shape, X3.shape"
   ],
   "metadata": {
    "collapsed": false
   },
   "id": "f9bb85149451a2ba"
  },
  {
   "cell_type": "code",
   "execution_count": null,
   "outputs": [],
   "source": [
    "Y1=((X1+X2+X3)<1).float()\n",
    "Y2=((1<(X1+X2+X3))&(X1+X2+X3<2)).float()\n",
    "Y3=((X1+X2+X3)>2).float()\n",
    "Y1.shape, Y2.shape, Y3.shape"
   ],
   "metadata": {
    "collapsed": false
   },
   "id": "b1944977863ac9ca"
  },
  {
   "cell_type": "code",
   "execution_count": null,
   "outputs": [],
   "source": [
    "Data=torch.cat([X1,X2,X3,Y1,Y2,Y3],axis=1)\n",
    "Data=Data.to(device)\n",
    "Data.shape"
   ],
   "metadata": {
    "collapsed": false
   },
   "id": "1bf332b7fb25f2c8"
  },
  {
   "cell_type": "code",
   "execution_count": null,
   "outputs": [],
   "source": [
    "Data"
   ],
   "metadata": {
    "collapsed": false
   },
   "id": "98ece603f4f944fc"
  },
  {
   "cell_type": "code",
   "execution_count": null,
   "outputs": [],
   "source": [
    "train_size=int(len(Data)*0.7)\n",
    "test_size=len(Data)-train_size\n",
    "Data=Data[torch.randperm(Data.size(0)) , : ]\n",
    "train_Data=Data[:train_size, :]\n",
    "test_Data=Data[train_size:, :]\n",
    "train_Data.shape, test_Data.shape"
   ],
   "metadata": {
    "collapsed": false
   },
   "id": "3a21024d5e758c62"
  },
  {
   "cell_type": "code",
   "execution_count": null,
   "outputs": [],
   "source": [
    "class DNN(nn.Module):\n",
    "    def __init__(self):\n",
    "        super(DNN,self).__init__()\n",
    "        self.net=nn.Sequential(\n",
    "            nn.Linear(3,5), nn.ReLU(),\n",
    "            nn.Linear(5,5), nn.ReLU(),\n",
    "            nn.Linear(5,5), nn.ReLU(),\n",
    "            nn.Linear(5,3)\n",
    "        )\n",
    "    def forward(self,x):\n",
    "        y=self.net(x)\n",
    "        return y"
   ],
   "metadata": {
    "collapsed": false
   },
   "id": "88cc7bef068e7555"
  },
  {
   "cell_type": "code",
   "execution_count": null,
   "outputs": [],
   "source": [
    "model=DNN().to(device)\n",
    "model"
   ],
   "metadata": {
    "collapsed": false
   },
   "id": "66ed79ad7e70eff0"
  },
  {
   "cell_type": "code",
   "execution_count": null,
   "outputs": [],
   "source": [
    "for name,param in model.named_parameters():\n",
    "    print(name, param.shape, param)"
   ],
   "metadata": {
    "collapsed": false
   },
   "id": "3eadfef9201b56bd"
  },
  {
   "cell_type": "code",
   "execution_count": null,
   "outputs": [],
   "source": [
    "loss_fn=nn.MSELoss()"
   ],
   "metadata": {
    "collapsed": false
   },
   "id": "78e97093953ba66f"
  },
  {
   "cell_type": "code",
   "execution_count": null,
   "outputs": [],
   "source": [
    "learning_rate=0.01\n",
    "optimizer=torch.optim.SGD(model.parameters(),lr=learning_rate)"
   ],
   "metadata": {
    "collapsed": false
   },
   "id": "71dc24143ba0ae81"
  },
  {
   "cell_type": "code",
   "execution_count": null,
   "outputs": [],
   "source": [
    "epochs=1000\n",
    "losses=[]\n",
    "\n",
    "X=train_Data[:,:3]\n",
    "Y=train_Data[:,3:]"
   ],
   "metadata": {
    "collapsed": false
   },
   "id": "20f9f91c9fccac84"
  },
  {
   "cell_type": "code",
   "execution_count": null,
   "outputs": [],
   "source": [
    "for epoch in range(epochs):\n",
    "    Pred=model(X)\n",
    "    loss=loss_fn(Pred,Y)\n",
    "    losses.append(loss.item())\n",
    "    optimizer.zero_grad()\n",
    "    loss.backward()\n",
    "    optimizer.step()\n",
    "    \n",
    "Fig=plt.figure()\n",
    "plt.plot(range(epochs),losses)\n",
    "plt.ylabel('Loss')\n",
    "plt.xlabel('Epoch')\n",
    "plt.show()"
   ],
   "metadata": {
    "collapsed": false
   },
   "id": "4c697bb47c59b617"
  },
  {
   "cell_type": "code",
   "execution_count": null,
   "outputs": [],
   "source": [
    "X=test_Data[:,:3]\n",
    "Y=test_Data[:,3:]\n",
    "\n",
    "with torch.no_grad():\n",
    "    Pred=model(X)\n",
    "    Pred[:,torch.argmax(Pred,axis=1)]=1\n",
    "    Pred[Pred!=1]=0\n",
    "    correct=torch.sum((Pred==Y).all(1))\n",
    "    total=Y.size(0)\n",
    "    print('Accuracy: ',correct/total)"
   ],
   "metadata": {
    "collapsed": false
   },
   "id": "f2fb80189b71d16f"
  },
  {
   "cell_type": "code",
   "execution_count": null,
   "outputs": [],
   "source": [
    "torch.save(model,'model.pt')"
   ],
   "metadata": {
    "collapsed": false
   },
   "id": "e98cc0b66d558aca"
  },
  {
   "cell_type": "code",
   "execution_count": null,
   "outputs": [],
   "source": [
    "new_model=torch.load('model.pt')"
   ],
   "metadata": {
    "collapsed": false
   },
   "id": "8470934a398e9f1a"
  },
  {
   "cell_type": "code",
   "execution_count": null,
   "outputs": [],
   "source": [
    "X=test_Data[:,:3]\n",
    "Y=test_Data[:,3:]\n",
    "\n",
    "with torch.no_grad():\n",
    "    Pred=new_model(X)\n",
    "    Pred[:,torch.argmax(Pred,axis=1)]=1\n",
    "    Pred[Pred!=1]=0\n",
    "    correct=torch.sum((Pred==Y).all(1))\n",
    "    total=Y.size(0)\n",
    "    print('Accuracy: ',correct/total)"
   ],
   "metadata": {
    "collapsed": false
   },
   "id": "cc5e9201dccfb434"
  },
  {
   "cell_type": "code",
   "execution_count": null,
   "outputs": [],
   "source": [],
   "metadata": {
    "collapsed": false
   },
   "id": "6d5f138e5101947d"
  }
 ],
 "metadata": {
  "kernelspec": {
   "display_name": "Python 3",
   "language": "python",
   "name": "python3"
  },
  "language_info": {
   "codemirror_mode": {
    "name": "ipython",
    "version": 2
   },
   "file_extension": ".py",
   "mimetype": "text/x-python",
   "name": "python",
   "nbconvert_exporter": "python",
   "pygments_lexer": "ipython2",
   "version": "2.7.6"
  }
 },
 "nbformat": 4,
 "nbformat_minor": 5
}
